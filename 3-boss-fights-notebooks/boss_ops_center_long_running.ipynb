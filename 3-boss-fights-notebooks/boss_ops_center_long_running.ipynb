{
 "cells": [
  {
   "cell_type": "markdown",
   "id": "65c1e1c4",
   "metadata": {},
   "source": [
    "# Boss Fight: Ops Center Long Running\n",
    "\n",
    "    - Goal: Manage long-running queue with retries\n",
    "- Goal: Summarise SLO metrics\n",
    "\n",
    "    **Pass criteria:** SLO summary stored after processing queue of five tasks.\n",
    "\n",
    "    _Mock mode uses fixtures and writes artifacts under `_runs/`. Flip `USE_REAL_CLIENT=True` when ready for live calls._"
   ]
  },
  {
   "cell_type": "code",
   "execution_count": null,
   "id": "ff2821ab",
   "metadata": {},
   "outputs": [],
   "source": [
    "\n",
    "USE_REAL_CLIENT = False  # flip when ready\n",
    "import os, json, time, pathlib, math, random\n",
    "\n",
    "RUN = pathlib.Path('_runs/boss_ops_center_long_running')\n",
    "RUN.mkdir(parents=True, exist_ok=True)\n",
    "FIXTURE_ROOT = pathlib.Path(os.environ.get('MOCK_FIXTURE_ROOT', '_fixtures'))\n",
    "\n",
    "def write_meta(**kwargs):\n",
    "    payload = {\"timestamp\": time.time(), **kwargs}\n",
    "    (RUN / 'meta.json').write_text(json.dumps(payload, indent=2))\n",
    "    return payload\n",
    "\n",
    "USE_REAL_CLIENT = bool(str(os.environ.get('USE_REAL_CLIENT', USE_REAL_CLIENT)).lower() in {'1', 'true', 'yes'})\n"
   ]
  },
  {
   "cell_type": "code",
   "execution_count": null,
   "id": "c32665b8",
   "metadata": {},
   "outputs": [],
   "source": [
    "from tools.backoff import retry\n",
    "tasks = [{\"id\": f\"task-{i}\", \"should_fail\": i % 2 == 0} for i in range(1, 6)]\n",
    "results = []\n",
    "for task in tasks:\n",
    "    attempts = {\"count\": 0}\n",
    "    def process():\n",
    "        attempts[\"count\"] += 1\n",
    "        if task[\"should_fail\"] and attempts[\"count\"] < 2:\n",
    "            raise RuntimeError(\"transient\")\n",
    "        return \"done\"\n",
    "    result, history = retry(process, attempts=3, sleeper=lambda _: None)\n",
    "    results.append({\"task\": task[\"id\"], \"result\": result, \"attempts\": len(history)})\n",
    "slo = {\n",
    "    \"processed\": len(tasks),\n",
    "    \"failures\": sum(1 for item in results if item[\"result\"] is None),\n",
    "    \"max_attempts\": max(item[\"attempts\"] for item in results)\n",
    "}\n",
    "(RUN / \"slo_summary.json\").write_text(json.dumps({\"results\": results, \"slo\": slo}, indent=2))\n",
    "slo"
   ]
  },
  {
   "cell_type": "code",
   "execution_count": null,
   "id": "672beb26",
   "metadata": {},
   "outputs": [],
   "source": [
    "meta = write_meta(ok=True, lab=\"boss_ops_center_long_running\", max_attempts=slo['max_attempts'])\n",
    "meta"
   ]
  }
 ],
 "metadata": {},
 "nbformat": 4,
 "nbformat_minor": 5
}
