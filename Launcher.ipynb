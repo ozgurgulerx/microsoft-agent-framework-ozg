{
 "cells": [
  {
   "cell_type": "markdown",
   "id": "3aba7a47",
   "metadata": {},
   "source": [
    "# Launcher\n",
    "\n",
    "    - Goal: Start each lab from a single entry point\n",
    "- Goal: Display scoreboard from `_runs/`\n",
    "\n",
    "    **Pass criteria:** Scoreboard cell summarises completion stats.\n",
    "\n",
    "    _Mock mode uses fixtures and writes artifacts under `_runs/`. Flip `USE_REAL_CLIENT=True` when ready for live calls._"
   ]
  },
  {
   "cell_type": "code",
   "execution_count": null,
   "id": "a9434ce9",
   "metadata": {},
   "outputs": [],
   "source": [
    "\n",
    "USE_REAL_CLIENT = False  # flip when ready\n",
    "import os, json, time, pathlib, math, random\n",
    "\n",
    "RUN = pathlib.Path('_runs/launcher')\n",
    "RUN.mkdir(parents=True, exist_ok=True)\n",
    "FIXTURE_ROOT = pathlib.Path(os.environ.get('MOCK_FIXTURE_ROOT', '_fixtures'))\n",
    "\n",
    "def write_meta(**kwargs):\n",
    "    payload = {\"timestamp\": time.time(), **kwargs}\n",
    "    (RUN / 'meta.json').write_text(json.dumps(payload, indent=2))\n",
    "    return payload\n",
    "\n",
    "USE_REAL_CLIENT = bool(str(os.environ.get('USE_REAL_CLIENT', USE_REAL_CLIENT)).lower() in {'1', 'true', 'yes'})\n"
   ]
  },
  {
   "cell_type": "markdown",
   "id": "45947b53",
   "metadata": {},
   "source": [
    "## Launch Checklist\n",
    "\n",
    "- [Prologue](0-prologue-notebooks/00_hello_agent.ipynb)\n",
    "- [Basics Gauntlet](1-basics-gauntlet-notebooks/01_streaming_basics.ipynb)\n",
    "- [Open Standards](1b-open-standards-notebooks/13_mcp_client_basics.ipynb)\n",
    "- [Foundry Integration](1c-foundry-integration-notebooks/17_persistent_agents_foundry.ipynb)\n",
    "- [Quests](2-quests-notebooks/quest_flight_deal_scout.ipynb)\n",
    "- [Boss Fights](3-boss-fights-notebooks/boss_multi_agent_orchestra.ipynb)\n",
    "- [Evals](4-evals/Grader.ipynb)"
   ]
  },
  {
   "cell_type": "code",
   "execution_count": null,
   "id": "0476447a",
   "metadata": {},
   "outputs": [],
   "source": [
    "from pathlib import Path\n",
    "metas = list(Path(\"_runs\").glob(\"**/meta.json\"))\n",
    "summary = []\n",
    "for meta_file in metas:\n",
    "    data = json.loads(meta_file.read_text())\n",
    "    summary.append({\n",
    "        \"lab\": meta_file.parent.name,\n",
    "        \"ok\": data.get(\"ok\", False),\n",
    "        \"timestamp\": data.get(\"timestamp\")\n",
    "    })\n",
    "completed = sum(1 for row in summary if row[\"ok\"])\n",
    "total = len(summary)\n",
    "scoreboard = {\"completed\": completed, \"total\": total, \"remaining\": max(total - completed, 0)}\n",
    "scoreboard"
   ]
  },
  {
   "cell_type": "code",
   "execution_count": null,
   "id": "4345b470",
   "metadata": {},
   "outputs": [],
   "source": [
    "meta = write_meta(ok=True, lab=\"launcher\", notebooks=len(summary))\n",
    "meta"
   ]
  }
 ],
 "metadata": {},
 "nbformat": 4,
 "nbformat_minor": 5
}
