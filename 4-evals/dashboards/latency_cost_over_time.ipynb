{
 "cells": [
  {
   "cell_type": "markdown",
   "id": "d9f11481",
   "metadata": {},
   "source": [
    "# Latency & Cost Over Time\n",
    "\n",
    "    - Goal: Aggregate timing metadata\n",
    "- Goal: Visualise latency using matplotlib\n",
    "\n",
    "    **Pass criteria:** Bar chart rendered or fallback summary in mock mode.\n",
    "\n",
    "    _Mock mode uses fixtures and writes artifacts under `_runs/`. Flip `USE_REAL_CLIENT=True` when ready for live calls._"
   ]
  },
  {
   "cell_type": "code",
   "execution_count": null,
   "id": "640a59b3",
   "metadata": {},
   "outputs": [],
   "source": [
    "\n",
    "USE_REAL_CLIENT = False  # flip when ready\n",
    "import os, json, time, pathlib, math, random\n",
    "\n",
    "RUN = pathlib.Path('_runs/dashboard_latency')\n",
    "RUN.mkdir(parents=True, exist_ok=True)\n",
    "FIXTURE_ROOT = pathlib.Path(os.environ.get('MOCK_FIXTURE_ROOT', '_fixtures'))\n",
    "\n",
    "def write_meta(**kwargs):\n",
    "    payload = {\"timestamp\": time.time(), **kwargs}\n",
    "    (RUN / 'meta.json').write_text(json.dumps(payload, indent=2))\n",
    "    return payload\n",
    "\n",
    "USE_REAL_CLIENT = bool(str(os.environ.get('USE_REAL_CLIENT', USE_REAL_CLIENT)).lower() in {'1', 'true', 'yes'})\n"
   ]
  },
  {
   "cell_type": "code",
   "execution_count": null,
   "id": "a6fbd306",
   "metadata": {},
   "outputs": [],
   "source": [
    "import matplotlib.pyplot as plt\n",
    "metas = list((RUN.parent.parent).glob(\"**/meta.json\"))\n",
    "data = []\n",
    "for path in metas:\n",
    "    payload = json.loads(path.read_text())\n",
    "    if \"latency_ms\" in payload:\n",
    "        data.append((path.parent.name, payload[\"latency_ms\"]))\n",
    "if not data:\n",
    "    data = [(\"sample\", 120), (\"workflow\", 95)]\n",
    "labels, values = zip(*data)\n",
    "plt.figure(figsize=(6, 3))\n",
    "plt.bar(labels, values)\n",
    "plt.ylabel(\"Latency (ms)\")\n",
    "plt.title(\"Latency Snapshot (Mock)\")\n",
    "plt.xticks(rotation=30)\n",
    "plt.tight_layout()\n",
    "plt.show()\n",
    "data"
   ]
  },
  {
   "cell_type": "code",
   "execution_count": null,
   "id": "7e929bbd",
   "metadata": {},
   "outputs": [],
   "source": [
    "meta = write_meta(ok=True, lab=\"dashboard_latency\", samples=len(data))\n",
    "meta"
   ]
  }
 ],
 "metadata": {},
 "nbformat": 4,
 "nbformat_minor": 5
}
