{
 "cells": [
  {
   "cell_type": "markdown",
   "id": "2c2be563",
   "metadata": {},
   "source": [
    "# Tool Accuracy Report\n",
    "\n",
    "    - Goal: Compile tool usage metrics\n",
    "- Goal: Plot accuracy per tool\n",
    "\n",
    "    **Pass criteria:** Accuracy summary printed from mock data set.\n",
    "\n",
    "    _Mock mode uses fixtures and writes artifacts under `_runs/`. Flip `USE_REAL_CLIENT=True` when ready for live calls._"
   ]
  },
  {
   "cell_type": "code",
   "execution_count": null,
   "id": "93349854",
   "metadata": {},
   "outputs": [],
   "source": [
    "\n",
    "USE_REAL_CLIENT = False  # flip when ready\n",
    "import os, json, time, pathlib, math, random\n",
    "\n",
    "RUN = pathlib.Path('_runs/dashboard_tool_accuracy')\n",
    "RUN.mkdir(parents=True, exist_ok=True)\n",
    "FIXTURE_ROOT = pathlib.Path(os.environ.get('MOCK_FIXTURE_ROOT', '_fixtures'))\n",
    "\n",
    "def write_meta(**kwargs):\n",
    "    payload = {\"timestamp\": time.time(), **kwargs}\n",
    "    (RUN / 'meta.json').write_text(json.dumps(payload, indent=2))\n",
    "    return payload\n",
    "\n",
    "USE_REAL_CLIENT = bool(str(os.environ.get('USE_REAL_CLIENT', USE_REAL_CLIENT)).lower() in {'1', 'true', 'yes'})\n"
   ]
  },
  {
   "cell_type": "code",
   "execution_count": null,
   "id": "6c0ff641",
   "metadata": {},
   "outputs": [],
   "source": [
    "import matplotlib.pyplot as plt\n",
    "tool_metrics = {\n",
    "    \"add\": {\"calls\": 10, \"success\": 10},\n",
    "    \"weather\": {\"calls\": 6, \"success\": 5},\n",
    "    \"search\": {\"calls\": 4, \"success\": 3},\n",
    "}\n",
    "accuracy = {name: metrics[\"success\"] / metrics[\"calls\"] for name, metrics in tool_metrics.items()}\n",
    "plt.figure(figsize=(6, 3))\n",
    "plt.bar(accuracy.keys(), accuracy.values())\n",
    "plt.ylim(0, 1)\n",
    "plt.ylabel(\"Accuracy\")\n",
    "plt.title(\"Tool Accuracy (Mock)\")\n",
    "plt.tight_layout()\n",
    "plt.show()\n",
    "accuracy"
   ]
  },
  {
   "cell_type": "code",
   "execution_count": null,
   "id": "84e9b62f",
   "metadata": {},
   "outputs": [],
   "source": [
    "meta = write_meta(ok=True, lab=\"dashboard_tool_accuracy\", tools=len(tool_metrics))\n",
    "meta"
   ]
  }
 ],
 "metadata": {},
 "nbformat": 4,
 "nbformat_minor": 5
}
