{
 "cells": [
  {
   "cell_type": "markdown",
   "id": "f0b014a2",
   "metadata": {},
   "source": [
    "# Quest Grader\n",
    "\n",
    "    - Goal: Scan `_runs/` for meta files\n",
    "- Goal: Display completion scoreboard\n",
    "\n",
    "    **Pass criteria:** Scoreboard shows counts for completed labs.\n",
    "\n",
    "    _Mock mode uses fixtures and writes artifacts under `_runs/`. Flip `USE_REAL_CLIENT=True` when ready for live calls._"
   ]
  },
  {
   "cell_type": "code",
   "execution_count": null,
   "id": "99448a27",
   "metadata": {},
   "outputs": [],
   "source": [
    "\n",
    "USE_REAL_CLIENT = False  # flip when ready\n",
    "import os, json, time, pathlib, math, random\n",
    "\n",
    "RUN = pathlib.Path('_runs/grader')\n",
    "RUN.mkdir(parents=True, exist_ok=True)\n",
    "FIXTURE_ROOT = pathlib.Path(os.environ.get('MOCK_FIXTURE_ROOT', '_fixtures'))\n",
    "\n",
    "def write_meta(**kwargs):\n",
    "    payload = {\"timestamp\": time.time(), **kwargs}\n",
    "    (RUN / 'meta.json').write_text(json.dumps(payload, indent=2))\n",
    "    return payload\n",
    "\n",
    "USE_REAL_CLIENT = bool(str(os.environ.get('USE_REAL_CLIENT', USE_REAL_CLIENT)).lower() in {'1', 'true', 'yes'})\n"
   ]
  },
  {
   "cell_type": "code",
   "execution_count": null,
   "id": "3bf51944",
   "metadata": {},
   "outputs": [],
   "source": [
    "from pathlib import Path\n",
    "metas = list(Path(\"_runs\").glob(\"**/meta.json\"))\n",
    "records = []\n",
    "for meta_file in metas:\n",
    "    data = json.loads(meta_file.read_text())\n",
    "    records.append({\n",
    "        \"lab\": meta_file.parent.name,\n",
    "        \"ok\": data.get(\"ok\", False),\n",
    "        \"timestamp\": data.get(\"timestamp\")\n",
    "    })\n",
    "completed = sum(1 for record in records if record[\"ok\"])\n",
    "summary = {\"completed\": completed, \"total_meta\": len(records)}\n",
    "summary"
   ]
  },
  {
   "cell_type": "code",
   "execution_count": null,
   "id": "a8fffd04",
   "metadata": {},
   "outputs": [],
   "source": [
    "meta = write_meta(ok=True, lab=\"grader\", discovered=len(metas))\n",
    "meta"
   ]
  }
 ],
 "metadata": {},
 "nbformat": 4,
 "nbformat_minor": 5
}
