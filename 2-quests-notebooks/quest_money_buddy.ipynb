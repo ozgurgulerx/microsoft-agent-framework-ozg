{
 "cells": [
  {
   "cell_type": "markdown",
   "id": "bec1ff50",
   "metadata": {},
   "source": [
    "# Quest: Money Buddy\n",
    "\n",
    "    - Goal: Classify ledger transactions\n",
    "- Goal: Generate action plan schema with redaction\n",
    "\n",
    "    **Pass criteria:** Action plan JSON created after categorisation.\n",
    "\n",
    "    _Mock mode uses fixtures and writes artifacts under `_runs/`. Flip `USE_REAL_CLIENT=True` when ready for live calls._"
   ]
  },
  {
   "cell_type": "code",
   "execution_count": null,
   "id": "edf0b6a1",
   "metadata": {},
   "outputs": [],
   "source": [
    "\n",
    "USE_REAL_CLIENT = False  # flip when ready\n",
    "import os, json, time, pathlib, math, random\n",
    "\n",
    "RUN = pathlib.Path('_runs/quest_money_buddy')\n",
    "RUN.mkdir(parents=True, exist_ok=True)\n",
    "FIXTURE_ROOT = pathlib.Path(os.environ.get('MOCK_FIXTURE_ROOT', '_fixtures'))\n",
    "\n",
    "def write_meta(**kwargs):\n",
    "    payload = {\"timestamp\": time.time(), **kwargs}\n",
    "    (RUN / 'meta.json').write_text(json.dumps(payload, indent=2))\n",
    "    return payload\n",
    "\n",
    "USE_REAL_CLIENT = bool(str(os.environ.get('USE_REAL_CLIENT', USE_REAL_CLIENT)).lower() in {'1', 'true', 'yes'})\n"
   ]
  },
  {
   "cell_type": "code",
   "execution_count": null,
   "id": "55d6646d",
   "metadata": {},
   "outputs": [],
   "source": [
    "import csv\n",
    "from tools.redact_middleware import redact_emails\n",
    "transactions = []\n",
    "with (FIXTURE_ROOT / \"transactions.csv\").open() as handle:\n",
    "    reader = csv.DictReader(handle)\n",
    "    for row in reader:\n",
    "        amount = float(row[\"amount\"])\n",
    "        category = \"income\" if amount > 0 else \"expense\"\n",
    "        description = row[\"description\"].lower()\n",
    "        if \"rent\" in description:\n",
    "            bucket = \"housing\"\n",
    "        elif \"gym\" in description:\n",
    "            bucket = \"wellness\"\n",
    "        elif \"coffee\" in description:\n",
    "            bucket = \"lifestyle\"\n",
    "        elif \"grocer\" in description:\n",
    "            bucket = \"essentials\"\n",
    "        else:\n",
    "            bucket = category\n",
    "        transactions.append({**row, \"amount\": amount, \"bucket\": bucket})\n",
    "plan_text = \"Contact advisor at planner@example.com to review budget.\" if transactions else \"No action needed.\"\n",
    "redacted = redact_emails(plan_text)\n",
    "plan = {\n",
    "    \"summary\": {\n",
    "        \"income\": sum(t[\"amount\"] for t in transactions if t[\"amount\"] > 0),\n",
    "        \"expenses\": sum(-t[\"amount\"] for t in transactions if t[\"amount\"] < 0),\n",
    "    },\n",
    "    \"steps\": [\n",
    "        {\"name\": \"Review subscriptions\", \"impact\": \"medium\"},\n",
    "        {\"name\": \"Set savings target\", \"impact\": \"high\"},\n",
    "    ],\n",
    "    \"notes\": redacted.redacted,\n",
    "    \"redactions\": redacted.replacements,\n",
    "}\n",
    "(RUN / \"plan.json\").write_text(json.dumps(plan, indent=2))\n",
    "plan"
   ]
  },
  {
   "cell_type": "code",
   "execution_count": null,
   "id": "ae33c789",
   "metadata": {},
   "outputs": [],
   "source": [
    "meta = write_meta(ok=True, lab=\"quest_money_buddy\", redactions=plan['redactions'])\n",
    "meta"
   ]
  }
 ],
 "metadata": {},
 "nbformat": 4,
 "nbformat_minor": 5
}
