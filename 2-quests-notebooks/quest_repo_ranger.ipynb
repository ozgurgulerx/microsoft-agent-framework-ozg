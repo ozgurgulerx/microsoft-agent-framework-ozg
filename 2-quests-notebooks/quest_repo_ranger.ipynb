{
 "cells": [
  {
   "cell_type": "markdown",
   "id": "aff7689e",
   "metadata": {},
   "source": [
    "# Quest: Repo Ranger\n",
    "\n",
    "    - Goal: Label pull requests via deterministic rules\n",
    "- Goal: Route risky changes through workflow\n",
    "\n",
    "    **Pass criteria:** PR report saved with labels and workflow routes.\n",
    "\n",
    "    _Mock mode uses fixtures and writes artifacts under `_runs/`. Flip `USE_REAL_CLIENT=True` when ready for live calls._"
   ]
  },
  {
   "cell_type": "code",
   "execution_count": null,
   "id": "1d30966d",
   "metadata": {},
   "outputs": [],
   "source": [
    "\n",
    "USE_REAL_CLIENT = False  # flip when ready\n",
    "import os, json, time, pathlib, math, random\n",
    "\n",
    "RUN = pathlib.Path('_runs/quest_repo_ranger')\n",
    "RUN.mkdir(parents=True, exist_ok=True)\n",
    "FIXTURE_ROOT = pathlib.Path(os.environ.get('MOCK_FIXTURE_ROOT', '_fixtures'))\n",
    "\n",
    "def write_meta(**kwargs):\n",
    "    payload = {\"timestamp\": time.time(), **kwargs}\n",
    "    (RUN / 'meta.json').write_text(json.dumps(payload, indent=2))\n",
    "    return payload\n",
    "\n",
    "USE_REAL_CLIENT = bool(str(os.environ.get('USE_REAL_CLIENT', USE_REAL_CLIENT)).lower() in {'1', 'true', 'yes'})\n"
   ]
  },
  {
   "cell_type": "code",
   "execution_count": null,
   "id": "90c0b070",
   "metadata": {},
   "outputs": [],
   "source": [
    "pull_requests = [\n",
    "    {\"id\": 101, \"files\": [\"notebooks/01_streaming_basics.ipynb\"], \"tests\": True, \"lines_changed\": 42},\n",
    "    {\"id\": 102, \"files\": [\"tools/backoff.py\", \"core/runtime.py\"], \"tests\": False, \"lines_changed\": 215},\n",
    "    {\"id\": 103, \"files\": [\"docs/index.md\"], \"tests\": False, \"lines_changed\": 12},\n",
    "]\n",
    "reports = []\n",
    "for pr in pull_requests:\n",
    "    labels = []\n",
    "    if any(path.startswith(\"docs\") for path in pr[\"files\"]):\n",
    "        labels.append(\"docs\")\n",
    "    if pr[\"lines_changed\"] > 200 or not pr[\"tests\"]:\n",
    "        labels.append(\"needs-review\")\n",
    "    if any(path.startswith(\"tools\") for path in pr[\"files\"]):\n",
    "        labels.append(\"runtime\")\n",
    "    requires_workflow = \"needs-review\" in labels\n",
    "    reports.append({**pr, \"labels\": labels, \"requires_workflow\": requires_workflow})\n",
    "(RUN / \"pr_reports.json\").write_text(json.dumps(reports, indent=2))\n",
    "reports"
   ]
  },
  {
   "cell_type": "code",
   "execution_count": null,
   "id": "5699bfb2",
   "metadata": {},
   "outputs": [],
   "source": [
    "meta = write_meta(ok=True, lab=\"quest_repo_ranger\", risky=sum(1 for pr in reports if pr['requires_workflow']))\n",
    "meta"
   ]
  }
 ],
 "metadata": {},
 "nbformat": 4,
 "nbformat_minor": 5
}
