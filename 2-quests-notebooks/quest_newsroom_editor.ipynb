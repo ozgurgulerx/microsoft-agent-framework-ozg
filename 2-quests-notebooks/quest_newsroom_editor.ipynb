{
 "cells": [
  {
   "cell_type": "markdown",
   "id": "f533ffe6",
   "metadata": {},
   "source": [
    "# Quest: Newsroom Editor\n",
    "\n",
    "    - Goal: Craft briefs from offline news fixtures\n",
    "- Goal: Require approvals for opinionated pieces\n",
    "\n",
    "    **Pass criteria:** `briefs.jsonl` holds briefs with word counts and approvals.\n",
    "\n",
    "    _Mock mode uses fixtures and writes artifacts under `_runs/`. Flip `USE_REAL_CLIENT=True` when ready for live calls._"
   ]
  },
  {
   "cell_type": "code",
   "execution_count": null,
   "id": "30ad6a10",
   "metadata": {},
   "outputs": [],
   "source": [
    "\n",
    "USE_REAL_CLIENT = False  # flip when ready\n",
    "import os, json, time, pathlib, math, random\n",
    "\n",
    "RUN = pathlib.Path('_runs/quest_newsroom_editor')\n",
    "RUN.mkdir(parents=True, exist_ok=True)\n",
    "FIXTURE_ROOT = pathlib.Path(os.environ.get('MOCK_FIXTURE_ROOT', '_fixtures'))\n",
    "\n",
    "def write_meta(**kwargs):\n",
    "    payload = {\"timestamp\": time.time(), **kwargs}\n",
    "    (RUN / 'meta.json').write_text(json.dumps(payload, indent=2))\n",
    "    return payload\n",
    "\n",
    "USE_REAL_CLIENT = bool(str(os.environ.get('USE_REAL_CLIENT', USE_REAL_CLIENT)).lower() in {'1', 'true', 'yes'})\n"
   ]
  },
  {
   "cell_type": "code",
   "execution_count": null,
   "id": "929fc006",
   "metadata": {},
   "outputs": [],
   "source": [
    "approval_fixture = json.loads((FIXTURE_ROOT / \"approvals.json\").read_text())\n",
    "                def build_brief(article):\n",
    "                    base_sentences = [\n",
    "                        f\"Headline: {article['title']}\",\n",
    "                        article[\"summary\"],\n",
    "                        article[\"body\"],\n",
    "                        \"The piece explains why the topic matters for local stakeholders.\",\n",
    "                        \"Analysts highlight lessons for agent workflows.\",\n",
    "                    ]\n",
    "                    text = \" \".join(base_sentences)\n",
    "                    filler = \"This briefing remains grounded in verified fixture data.\"\n",
    "                    while len(text.split()) < 125:\n",
    "                        text += \" \" + filler\n",
    "                    text = \" \".join(text.split()[:150])\n",
    "                    citations = [article[\"citations\"][0], {\"source\": \"MockArchive\", \"url\": \"https://fixtures.local/mock\"}]\n",
    "                    approval_info = {\"required\": article[\"opinionated\"], \"status\": \"approved\" if article[\"opinionated\"] else \"not-requested\"}\n",
    "                    if article[\"opinionated\"]:\n",
    "                        approval_info[\"approved_by\"] = approval_fixture[\"approved_by\"]\n",
    "                    return {\n",
    "                        \"slug\": article[\"slug\"],\n",
    "                        \"brief\": text,\n",
    "                        \"word_count\": len(text.split()),\n",
    "                        \"citations\": citations,\n",
    "                        \"approval\": approval_info,\n",
    "                    }\n",
    "                briefs = []\n",
    "                for path in sorted((FIXTURE_ROOT / \"news\").glob(\"sample_*.json\"))[:4]:\n",
    "                    article = json.loads(path.read_text())\n",
    "                    briefs.append(build_brief(article))\n",
    "                output_path = RUN / \"briefs.jsonl\"\n",
    "                with output_path.open(\"w\", encoding=\"utf-8\") as handle:\n",
    "                    for entry in briefs:\n",
    "                        handle.write(json.dumps(entry) + \"\n",
    "\")\n",
    "                [entry[\"word_count\"] for entry in briefs]"
   ]
  },
  {
   "cell_type": "code",
   "execution_count": null,
   "id": "919dc031",
   "metadata": {},
   "outputs": [],
   "source": [
    "opinionated = sum(1 for entry in briefs if entry['approval']['required'])\n",
    "meta = write_meta(ok=True, lab=\"quest_newsroom_editor\", briefs=len(briefs), opinionated=opinionated)\n",
    "meta"
   ]
  }
 ],
 "metadata": {},
 "nbformat": 4,
 "nbformat_minor": 5
}
