{
 "cells": [
  {
   "cell_type": "markdown",
   "id": "03fac463",
   "metadata": {},
   "source": [
    "# Quest: Doc Drafter\n",
    "\n",
    "    - Goal: Generate section stubs with approvals\n",
    "- Goal: Checkpoint progress between sections\n",
    "\n",
    "    **Pass criteria:** Final document JSON lists sections and approvals.\n",
    "\n",
    "    _Mock mode uses fixtures and writes artifacts under `_runs/`. Flip `USE_REAL_CLIENT=True` when ready for live calls._"
   ]
  },
  {
   "cell_type": "code",
   "execution_count": null,
   "id": "4c5b8f4c",
   "metadata": {},
   "outputs": [],
   "source": [
    "\n",
    "USE_REAL_CLIENT = False  # flip when ready\n",
    "import os, json, time, pathlib, math, random\n",
    "\n",
    "RUN = pathlib.Path('_runs/quest_doc_drafter')\n",
    "RUN.mkdir(parents=True, exist_ok=True)\n",
    "FIXTURE_ROOT = pathlib.Path(os.environ.get('MOCK_FIXTURE_ROOT', '_fixtures'))\n",
    "\n",
    "def write_meta(**kwargs):\n",
    "    payload = {\"timestamp\": time.time(), **kwargs}\n",
    "    (RUN / 'meta.json').write_text(json.dumps(payload, indent=2))\n",
    "    return payload\n",
    "\n",
    "USE_REAL_CLIENT = bool(str(os.environ.get('USE_REAL_CLIENT', USE_REAL_CLIENT)).lower() in {'1', 'true', 'yes'})\n"
   ]
  },
  {
   "cell_type": "code",
   "execution_count": null,
   "id": "fd7b17ea",
   "metadata": {},
   "outputs": [],
   "source": [
    "approval = json.loads((FIXTURE_ROOT / \"approvals.json\").read_text())\n",
    "sections = []\n",
    "checkpoints = []\n",
    "for idx, name in enumerate([\"Introduction\", \"Findings\", \"Next Steps\"], start=1):\n",
    "    section = {\n",
    "        \"id\": idx,\n",
    "        \"title\": name,\n",
    "        \"content\": f\"{name} section drafted in mock mode.\",\n",
    "        \"approval\": {\"required\": True, \"status\": \"approved\", \"approved_by\": approval[\"approved_by\"]}\n",
    "    }\n",
    "    sections.append(section)\n",
    "    checkpoints.append({\"section\": name, \"saved_at\": time.time()})\n",
    "(RUN / \"checkpoints.json\").write_text(json.dumps(checkpoints, indent=2))\n",
    "document = {\"title\": \"Quest Doc Draft\", \"sections\": sections}\n",
    "(RUN / \"document.json\").write_text(json.dumps(document, indent=2))\n",
    "document"
   ]
  },
  {
   "cell_type": "code",
   "execution_count": null,
   "id": "c5df39f4",
   "metadata": {},
   "outputs": [],
   "source": [
    "meta = write_meta(ok=True, lab=\"quest_doc_drafter\", sections=len(sections))\n",
    "meta"
   ]
  }
 ],
 "metadata": {},
 "nbformat": 4,
 "nbformat_minor": 5
}
