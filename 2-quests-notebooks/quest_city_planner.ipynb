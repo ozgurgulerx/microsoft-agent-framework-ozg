{
 "cells": [
  {
   "cell_type": "markdown",
   "id": "d0c9cd5e",
   "metadata": {},
   "source": [
    "# Quest: City Planner\n",
    "\n",
    "    - Goal: Design itinerary from POI fixtures\n",
    "- Goal: Export simple Mermaid DAG\n",
    "\n",
    "    **Pass criteria:** Itinerary JSON and Mermaid diagram created.\n",
    "\n",
    "    _Mock mode uses fixtures and writes artifacts under `_runs/`. Flip `USE_REAL_CLIENT=True` when ready for live calls._"
   ]
  },
  {
   "cell_type": "code",
   "execution_count": null,
   "id": "562c869f",
   "metadata": {},
   "outputs": [],
   "source": [
    "\n",
    "USE_REAL_CLIENT = False  # flip when ready\n",
    "import os, json, time, pathlib, math, random\n",
    "\n",
    "RUN = pathlib.Path('_runs/quest_city_planner')\n",
    "RUN.mkdir(parents=True, exist_ok=True)\n",
    "FIXTURE_ROOT = pathlib.Path(os.environ.get('MOCK_FIXTURE_ROOT', '_fixtures'))\n",
    "\n",
    "def write_meta(**kwargs):\n",
    "    payload = {\"timestamp\": time.time(), **kwargs}\n",
    "    (RUN / 'meta.json').write_text(json.dumps(payload, indent=2))\n",
    "    return payload\n",
    "\n",
    "USE_REAL_CLIENT = bool(str(os.environ.get('USE_REAL_CLIENT', USE_REAL_CLIENT)).lower() in {'1', 'true', 'yes'})\n"
   ]
  },
  {
   "cell_type": "code",
   "execution_count": null,
   "id": "6142a376",
   "metadata": {},
   "outputs": [],
   "source": [
    "import csv\n",
    "                from tools.dag_export import export_graph\n",
    "                mode = \"kid_friendly\"\n",
    "                pois = []\n",
    "                with (FIXTURE_ROOT / \"poi_city.csv\").open() as handle:\n",
    "                    reader = csv.DictReader(handle)\n",
    "                    for row in reader:\n",
    "                        pois.append(row)\n",
    "                if mode == \"rainy\":\n",
    "                    selected = [p for p in pois if p[\"rainy_day\"] == \"yes\"][:4]\n",
    "                else:\n",
    "                    selected = [p for p in pois if p[\"kid_friendly\"] == \"yes\"][:4]\n",
    "                itinerary = [p[\"name\"] for p in selected]\n",
    "                (RUN / \"itinerary.json\").write_text(json.dumps({\"mode\": mode, \"stops\": itinerary}, indent=2))\n",
    "                mermaid_lines = [\"flowchart TD\"] + [f\"stop{i}({name})\" for i, name in enumerate(itinerary, start=1)]\n",
    "                export_graph(\"city_planner\", \"\n",
    "\".join(mermaid_lines), create_png_placeholder=True)\n",
    "                itinerary"
   ]
  },
  {
   "cell_type": "code",
   "execution_count": null,
   "id": "7e5a201a",
   "metadata": {},
   "outputs": [],
   "source": [
    "meta = write_meta(ok=len(itinerary) >= 4, lab=\"quest_city_planner\", stops=len(itinerary))\n",
    "meta"
   ]
  }
 ],
 "metadata": {},
 "nbformat": 4,
 "nbformat_minor": 5
}
