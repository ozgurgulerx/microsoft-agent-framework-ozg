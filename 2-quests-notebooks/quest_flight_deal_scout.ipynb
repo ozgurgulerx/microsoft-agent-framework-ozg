{
 "cells": [
  {
   "cell_type": "markdown",
   "id": "ac40ff41",
   "metadata": {},
   "source": [
    "# Quest: Flight Deal Scout\n",
    "\n",
    "    - Goal: Rank offline flight offers\n",
    "- Goal: Persist top three with evidence\n",
    "\n",
    "    **Pass criteria:** `offers.jsonl` contains three ranked offers with scores.\n",
    "\n",
    "    _Mock mode uses fixtures and writes artifacts under `_runs/`. Flip `USE_REAL_CLIENT=True` when ready for live calls._"
   ]
  },
  {
   "cell_type": "code",
   "execution_count": null,
   "id": "12feb701",
   "metadata": {},
   "outputs": [],
   "source": [
    "\n",
    "USE_REAL_CLIENT = False  # flip when ready\n",
    "import os, json, time, pathlib, math, random\n",
    "\n",
    "RUN = pathlib.Path('_runs/quest_flight_deal_scout')\n",
    "RUN.mkdir(parents=True, exist_ok=True)\n",
    "FIXTURE_ROOT = pathlib.Path(os.environ.get('MOCK_FIXTURE_ROOT', '_fixtures'))\n",
    "\n",
    "def write_meta(**kwargs):\n",
    "    payload = {\"timestamp\": time.time(), **kwargs}\n",
    "    (RUN / 'meta.json').write_text(json.dumps(payload, indent=2))\n",
    "    return payload\n",
    "\n",
    "USE_REAL_CLIENT = bool(str(os.environ.get('USE_REAL_CLIENT', USE_REAL_CLIENT)).lower() in {'1', 'true', 'yes'})\n"
   ]
  },
  {
   "cell_type": "code",
   "execution_count": null,
   "id": "baba424b",
   "metadata": {},
   "outputs": [],
   "source": [
    "offers = [\n",
    "                    {\"destination\": \"Lisbon\", \"price\": 450, \"dates\": \"2024-06-01 to 2024-06-08\", \"stops\": 1},\n",
    "                    {\"destination\": \"Reykjavik\", \"price\": 520, \"dates\": \"2024-06-12 to 2024-06-20\", \"stops\": 0},\n",
    "                    {\"destination\": \"Tokyo\", \"price\": 980, \"dates\": \"2024-07-05 to 2024-07-15\", \"stops\": 1},\n",
    "                    {\"destination\": \"Vancouver\", \"price\": 390, \"dates\": \"2024-06-15 to 2024-06-22\", \"stops\": 1},\n",
    "                ]\n",
    "                ranked = []\n",
    "                for offer in offers:\n",
    "                    score = round(1000 / (offer[\"price\"] + (50 * offer[\"stops\"])), 2)\n",
    "                    ranked.append({**offer, \"score\": score, \"evidence\": f\"Derived from offline fixture scoring, stops={offer['stops']}\"})\n",
    "                ranked.sort(key=lambda item: item[\"score\"], reverse=True)\n",
    "                top_three = ranked[:3]\n",
    "                output_path = RUN / \"offers.jsonl\"\n",
    "                with output_path.open(\"w\", encoding=\"utf-8\") as handle:\n",
    "                    for item in top_three:\n",
    "                        handle.write(json.dumps(item) + \"\n",
    "\")\n",
    "                top_three"
   ]
  },
  {
   "cell_type": "code",
   "execution_count": null,
   "id": "2337b0a8",
   "metadata": {},
   "outputs": [],
   "source": [
    "meta = write_meta(ok=True, lab=\"quest_flight_deal_scout\", offers=3)\n",
    "meta"
   ]
  }
 ],
 "metadata": {},
 "nbformat": 4,
 "nbformat_minor": 5
}
