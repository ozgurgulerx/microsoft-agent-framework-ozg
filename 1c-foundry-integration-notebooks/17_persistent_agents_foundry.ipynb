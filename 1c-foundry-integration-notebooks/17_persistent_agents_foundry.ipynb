{
 "cells": [
  {
   "cell_type": "markdown",
   "id": "f56cf139",
   "metadata": {},
   "source": [
    "# Persistent Agents on Azure AI Foundry\n",
    "\n",
    "    - Goal: Walk through create/list/invoke/delete flow\n",
    "- Goal: Record mock interactions for offline replay\n",
    "\n",
    "    **Pass criteria:** `foundry_flow.json` documents lifecycle with TODO for live calls.\n",
    "\n",
    "    _Mock mode uses fixtures and writes artifacts under `_runs/`. Flip `USE_REAL_CLIENT=True` when ready for live calls._"
   ]
  },
  {
   "cell_type": "code",
   "execution_count": null,
   "id": "0b79c6ea",
   "metadata": {},
   "outputs": [],
   "source": [
    "\n",
    "USE_REAL_CLIENT = False  # flip when ready\n",
    "import os, json, time, pathlib, math, random\n",
    "\n",
    "RUN = pathlib.Path('_runs/17_foundry')\n",
    "RUN.mkdir(parents=True, exist_ok=True)\n",
    "FIXTURE_ROOT = pathlib.Path(os.environ.get('MOCK_FIXTURE_ROOT', '_fixtures'))\n",
    "\n",
    "def write_meta(**kwargs):\n",
    "    payload = {\"timestamp\": time.time(), **kwargs}\n",
    "    (RUN / 'meta.json').write_text(json.dumps(payload, indent=2))\n",
    "    return payload\n",
    "\n",
    "USE_REAL_CLIENT = bool(str(os.environ.get('USE_REAL_CLIENT', USE_REAL_CLIENT)).lower() in {'1', 'true', 'yes'})\n"
   ]
  },
  {
   "cell_type": "code",
   "execution_count": null,
   "id": "4b2300e6",
   "metadata": {},
   "outputs": [],
   "source": [
    "flow = [\n",
    "    {\"step\": \"create\", \"agent_id\": \"agent-001\", \"status\": \"mock-created\"},\n",
    "    {\"step\": \"list\", \"agents\": [\"agent-001\"]},\n",
    "    {\"step\": \"invoke\", \"agent_id\": \"agent-001\", \"result\": \"mock-response\"},\n",
    "    {\"step\": \"delete\", \"agent_id\": \"agent-001\", \"status\": \"mock-deleted\"}\n",
    "]\n",
    "(RUN / \"foundry_flow.json\").write_text(json.dumps(flow, indent=2))\n",
    "# TODO: replace with Azure AI Foundry SDK calls when USE_REAL_CLIENT is True\n",
    "flow"
   ]
  },
  {
   "cell_type": "code",
   "execution_count": null,
   "id": "886812d3",
   "metadata": {},
   "outputs": [],
   "source": [
    "meta = write_meta(ok=True, lab=\"17_foundry\", steps=len(flow))\n",
    "meta"
   ]
  }
 ],
 "metadata": {},
 "nbformat": 4,
 "nbformat_minor": 5
}
