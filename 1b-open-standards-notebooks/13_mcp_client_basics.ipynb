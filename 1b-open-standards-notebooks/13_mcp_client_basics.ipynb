{
 "cells": [
  {
   "cell_type": "markdown",
   "id": "ba4e2ac3",
   "metadata": {},
   "source": [
    "# MCP Client Basics\n",
    "\n",
    "    - Goal: Describe MCP handshake\n",
    "- Goal: Simulate tool discovery and invocation\n",
    "\n",
    "    **Pass criteria:** `mcp_calls.json` captures discovery plus invocation entries.\n",
    "\n",
    "    _Mock mode uses fixtures and writes artifacts under `_runs/`. Flip `USE_REAL_CLIENT=True` when ready for live calls._"
   ]
  },
  {
   "cell_type": "code",
   "execution_count": null,
   "id": "cf4caa3e",
   "metadata": {},
   "outputs": [],
   "source": [
    "\n",
    "USE_REAL_CLIENT = False  # flip when ready\n",
    "import os, json, time, pathlib, math, random\n",
    "\n",
    "RUN = pathlib.Path('_runs/13_mcp_client')\n",
    "RUN.mkdir(parents=True, exist_ok=True)\n",
    "FIXTURE_ROOT = pathlib.Path(os.environ.get('MOCK_FIXTURE_ROOT', '_fixtures'))\n",
    "\n",
    "def write_meta(**kwargs):\n",
    "    payload = {\"timestamp\": time.time(), **kwargs}\n",
    "    (RUN / 'meta.json').write_text(json.dumps(payload, indent=2))\n",
    "    return payload\n",
    "\n",
    "USE_REAL_CLIENT = bool(str(os.environ.get('USE_REAL_CLIENT', USE_REAL_CLIENT)).lower() in {'1', 'true', 'yes'})\n"
   ]
  },
  {
   "cell_type": "markdown",
   "id": "40a7ad51",
   "metadata": {},
   "source": [
    "MCP (Model Context Protocol) enables discoverable, structured tool exchanges between agents."
   ]
  },
  {
   "cell_type": "code",
   "execution_count": null,
   "id": "b3da4d51",
   "metadata": {},
   "outputs": [],
   "source": [
    "discovery = {\n",
    "    \"version\": \"0.1\",\n",
    "    \"tools\": [\n",
    "        {\"name\": \"search\", \"description\": \"Look up indexed knowledge\"},\n",
    "        {\"name\": \"draft\", \"description\": \"Generate draft text\"}\n",
    "    ]\n",
    "}\n",
    "invocation = {\n",
    "    \"tool\": \"search\",\n",
    "    \"arguments\": {\"query\": \"agent framework mcp\"},\n",
    "    \"response\": {\"hits\": 3, \"top\": \"Understanding MCP tooling\"}\n",
    "}\n",
    "log = {\"discovery\": discovery, \"invocation\": invocation, \"use_real_client\": USE_REAL_CLIENT}\n",
    "(RUN / \"mcp_calls.json\").write_text(json.dumps(log, indent=2))\n",
    "log"
   ]
  },
  {
   "cell_type": "code",
   "execution_count": null,
   "id": "3126fabc",
   "metadata": {},
   "outputs": [],
   "source": [
    "meta = write_meta(ok=True, lab=\"13_mcp_client\", tool_count=len(discovery['tools']))\n",
    "meta"
   ]
  }
 ],
 "metadata": {},
 "nbformat": 4,
 "nbformat_minor": 5
}
