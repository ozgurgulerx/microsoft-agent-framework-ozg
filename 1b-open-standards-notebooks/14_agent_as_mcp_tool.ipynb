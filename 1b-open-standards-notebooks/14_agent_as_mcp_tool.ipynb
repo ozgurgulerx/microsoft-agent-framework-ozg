{
 "cells": [
  {
   "cell_type": "markdown",
   "id": "c26d8464",
   "metadata": {},
   "source": [
    "# Agent as MCP Tool\n",
    "\n",
    "    - Goal: Model exposing local agent as MCP tool\n",
    "- Goal: Log spec stub and invocation\n",
    "\n",
    "    **Pass criteria:** Specification stub and mock invocation saved to `_runs/14_agent_as_mcp_tool`.\n",
    "\n",
    "    _Mock mode uses fixtures and writes artifacts under `_runs/`. Flip `USE_REAL_CLIENT=True` when ready for live calls._"
   ]
  },
  {
   "cell_type": "code",
   "execution_count": null,
   "id": "45e92bba",
   "metadata": {},
   "outputs": [],
   "source": [
    "\n",
    "USE_REAL_CLIENT = False  # flip when ready\n",
    "import os, json, time, pathlib, math, random\n",
    "\n",
    "RUN = pathlib.Path('_runs/14_agent_mcp_tool')\n",
    "RUN.mkdir(parents=True, exist_ok=True)\n",
    "FIXTURE_ROOT = pathlib.Path(os.environ.get('MOCK_FIXTURE_ROOT', '_fixtures'))\n",
    "\n",
    "def write_meta(**kwargs):\n",
    "    payload = {\"timestamp\": time.time(), **kwargs}\n",
    "    (RUN / 'meta.json').write_text(json.dumps(payload, indent=2))\n",
    "    return payload\n",
    "\n",
    "USE_REAL_CLIENT = bool(str(os.environ.get('USE_REAL_CLIENT', USE_REAL_CLIENT)).lower() in {'1', 'true', 'yes'})\n"
   ]
  },
  {
   "cell_type": "code",
   "execution_count": null,
   "id": "4a19bb0f",
   "metadata": {},
   "outputs": [],
   "source": [
    "spec_stub = {\n",
    "    \"name\": \"quest_planner\",\n",
    "    \"description\": \"Plan quests leveraging offline fixtures\",\n",
    "    \"input_schema\": {\"type\": \"object\", \"properties\": {\"goal\": {\"type\": \"string\"}}}\n",
    "}\n",
    "invocation = {\n",
    "    \"input\": {\"goal\": \"Design basics gauntlet recap\"},\n",
    "    \"output\": {\n",
    "        \"agenda\": [\"Streaming recap\", \"Tool deep dive\", \"Workflow lab\"],\n",
    "        \"status\": \"ok\"\n",
    "    }\n",
    "}\n",
    "(RUN / \"spec_stub.json\").write_text(json.dumps(spec_stub, indent=2))\n",
    "(RUN / \"invocation.json\").write_text(json.dumps(invocation, indent=2))\n",
    "invocation"
   ]
  },
  {
   "cell_type": "code",
   "execution_count": null,
   "id": "57d09d56",
   "metadata": {},
   "outputs": [],
   "source": [
    "meta = write_meta(ok=True, lab=\"14_agent_as_mcp_tool\", spec_fields=list(spec_stub.keys()))\n",
    "meta"
   ]
  }
 ],
 "metadata": {},
 "nbformat": 4,
 "nbformat_minor": 5
}
