{
 "cells": [
  {
   "cell_type": "markdown",
   "id": "6bb2cd63",
   "metadata": {},
   "source": [
    "# Agent-to-Agent Remote Calls\n",
    "\n",
    "    - Goal: Simulate remote agent request\n",
    "- Goal: Capture timeout/backpressure signals\n",
    "\n",
    "    **Pass criteria:** Remote exchange logged with timeout and backpressure flags.\n",
    "\n",
    "    _Mock mode uses fixtures and writes artifacts under `_runs/`. Flip `USE_REAL_CLIENT=True` when ready for live calls._"
   ]
  },
  {
   "cell_type": "code",
   "execution_count": null,
   "id": "fbc1f605",
   "metadata": {},
   "outputs": [],
   "source": [
    "\n",
    "USE_REAL_CLIENT = False  # flip when ready\n",
    "import os, json, time, pathlib, math, random\n",
    "\n",
    "RUN = pathlib.Path('_runs/15_a2a_remote')\n",
    "RUN.mkdir(parents=True, exist_ok=True)\n",
    "FIXTURE_ROOT = pathlib.Path(os.environ.get('MOCK_FIXTURE_ROOT', '_fixtures'))\n",
    "\n",
    "def write_meta(**kwargs):\n",
    "    payload = {\"timestamp\": time.time(), **kwargs}\n",
    "    (RUN / 'meta.json').write_text(json.dumps(payload, indent=2))\n",
    "    return payload\n",
    "\n",
    "USE_REAL_CLIENT = bool(str(os.environ.get('USE_REAL_CLIENT', USE_REAL_CLIENT)).lower() in {'1', 'true', 'yes'})\n"
   ]
  },
  {
   "cell_type": "code",
   "execution_count": null,
   "id": "feaf10af",
   "metadata": {},
   "outputs": [],
   "source": [
    "exchange = {\n",
    "    \"request\": {\"task_id\": \"remote-42\", \"payload\": {\"query\": \"Need zoning summary\"}},\n",
    "    \"response\": {\"status\": \"ok\", \"answer\": \"Zoning is residential mixed-use.\"},\n",
    "    \"timeout\": False,\n",
    "    \"backpressure\": True\n",
    "}\n",
    "(RUN / \"exchange.json\").write_text(json.dumps(exchange, indent=2))\n",
    "exchange"
   ]
  },
  {
   "cell_type": "code",
   "execution_count": null,
   "id": "4bc2fa6e",
   "metadata": {},
   "outputs": [],
   "source": [
    "meta = write_meta(ok=True, lab=\"15_a2a_remote\", timeout=exchange['timeout'], backpressure=exchange['backpressure'])\n",
    "meta"
   ]
  }
 ],
 "metadata": {},
 "nbformat": 4,
 "nbformat_minor": 5
}
