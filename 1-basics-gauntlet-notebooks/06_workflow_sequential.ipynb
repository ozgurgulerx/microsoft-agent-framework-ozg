{
 "cells": [
  {
   "cell_type": "markdown",
   "id": "8ba447f9",
   "metadata": {},
   "source": [
    "# Sequential Workflow\n",
    "\n",
    "    - Goal: Model draft → fact check → polish flow\n",
    "- Goal: Export Mermaid diagram for CI rendering\n",
    "\n",
    "    **Pass criteria:** Mermaid file saved and artifact order recorded.\n",
    "\n",
    "    _Mock mode uses fixtures and writes artifacts under `_runs/`. Flip `USE_REAL_CLIENT=True` when ready for live calls._"
   ]
  },
  {
   "cell_type": "code",
   "execution_count": null,
   "id": "f65ecdcd",
   "metadata": {},
   "outputs": [],
   "source": [
    "\n",
    "USE_REAL_CLIENT = False  # flip when ready\n",
    "import os, json, time, pathlib, math, random\n",
    "\n",
    "RUN = pathlib.Path('_runs/06_workflow_sequential')\n",
    "RUN.mkdir(parents=True, exist_ok=True)\n",
    "FIXTURE_ROOT = pathlib.Path(os.environ.get('MOCK_FIXTURE_ROOT', '_fixtures'))\n",
    "\n",
    "def write_meta(**kwargs):\n",
    "    payload = {\"timestamp\": time.time(), **kwargs}\n",
    "    (RUN / 'meta.json').write_text(json.dumps(payload, indent=2))\n",
    "    return payload\n",
    "\n",
    "USE_REAL_CLIENT = bool(str(os.environ.get('USE_REAL_CLIENT', USE_REAL_CLIENT)).lower() in {'1', 'true', 'yes'})\n"
   ]
  },
  {
   "cell_type": "code",
   "execution_count": null,
   "id": "e622f446",
   "metadata": {},
   "outputs": [],
   "source": [
    "from tools.dag_export import export_graph\n",
    "            mermaid = \"flowchart TD\n",
    "Draft --> FactCheck --> Polish\"\n",
    "            export_graph(\"sequential\", mermaid, create_png_placeholder=True)\n",
    "            ordered_artifacts = [\"draft.md\", \"fact_check_notes.json\", \"polished.md\"]\n",
    "            (RUN / \"artifacts.json\").write_text(json.dumps({\"ordered\": ordered_artifacts}, indent=2))\n",
    "            ordered_artifacts"
   ]
  },
  {
   "cell_type": "code",
   "execution_count": null,
   "id": "4707f8d1",
   "metadata": {},
   "outputs": [],
   "source": [
    "meta = write_meta(ok=True, lab=\"06_workflow_sequential\", artifacts=3)\n",
    "meta"
   ]
  }
 ],
 "metadata": {},
 "nbformat": 4,
 "nbformat_minor": 5
}
