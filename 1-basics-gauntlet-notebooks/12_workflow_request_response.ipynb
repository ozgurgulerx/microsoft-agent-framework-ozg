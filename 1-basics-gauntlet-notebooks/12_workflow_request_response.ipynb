{
 "cells": [
  {
   "cell_type": "markdown",
   "id": "239c2953",
   "metadata": {},
   "source": [
    "# Workflow Request/Response HITL\n",
    "\n",
    "    - Goal: Simulate explicit pause for request/response\n",
    "- Goal: Resume processing when approval arrives\n",
    "\n",
    "    **Pass criteria:** Queue log captures pause and resume events.\n",
    "\n",
    "    _Mock mode uses fixtures and writes artifacts under `_runs/`. Flip `USE_REAL_CLIENT=True` when ready for live calls._"
   ]
  },
  {
   "cell_type": "code",
   "execution_count": null,
   "id": "b899cc36",
   "metadata": {},
   "outputs": [],
   "source": [
    "\n",
    "USE_REAL_CLIENT = False  # flip when ready\n",
    "import os, json, time, pathlib, math, random\n",
    "\n",
    "RUN = pathlib.Path('_runs/12_workflow_request_response')\n",
    "RUN.mkdir(parents=True, exist_ok=True)\n",
    "FIXTURE_ROOT = pathlib.Path(os.environ.get('MOCK_FIXTURE_ROOT', '_fixtures'))\n",
    "\n",
    "def write_meta(**kwargs):\n",
    "    payload = {\"timestamp\": time.time(), **kwargs}\n",
    "    (RUN / 'meta.json').write_text(json.dumps(payload, indent=2))\n",
    "    return payload\n",
    "\n",
    "USE_REAL_CLIENT = bool(str(os.environ.get('USE_REAL_CLIENT', USE_REAL_CLIENT)).lower() in {'1', 'true', 'yes'})\n"
   ]
  },
  {
   "cell_type": "code",
   "execution_count": null,
   "id": "de7c31c9",
   "metadata": {},
   "outputs": [],
   "source": [
    "queue = []\n",
    "queue.append({\"event\": \"pause\", \"reason\": \"awaiting human\", \"timestamp\": time.time()})\n",
    "approval = json.loads((FIXTURE_ROOT / \"approvals.json\").read_text())\n",
    "queue.append({\"event\": \"resume\", \"approved_by\": approval[\"approved_by\"], \"timestamp\": time.time()})\n",
    "(RUN / \"queue.json\").write_text(json.dumps(queue, indent=2))\n",
    "queue"
   ]
  },
  {
   "cell_type": "code",
   "execution_count": null,
   "id": "1da3c04c",
   "metadata": {},
   "outputs": [],
   "source": [
    "meta = write_meta(ok=True, lab=\"12_workflow_request_response\", pause=True, resumed=True)\n",
    "meta"
   ]
  }
 ],
 "metadata": {},
 "nbformat": 4,
 "nbformat_minor": 5
}
