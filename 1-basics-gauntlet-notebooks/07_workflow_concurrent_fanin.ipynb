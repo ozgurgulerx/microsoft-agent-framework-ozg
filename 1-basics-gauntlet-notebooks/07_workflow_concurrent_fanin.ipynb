{
 "cells": [
  {
   "cell_type": "markdown",
   "id": "78ce685c",
   "metadata": {},
   "source": [
    "# Concurrent Fan-in Workflow\n",
    "\n",
    "    - Goal: Simulate parallel summarise and keyword tasks\n",
    "- Goal: Merge outputs into combined payload\n",
    "\n",
    "    **Pass criteria:** Combined summary + keyword JSON stored in `_runs/07_workflow_concurrent_fanin`.\n",
    "\n",
    "    _Mock mode uses fixtures and writes artifacts under `_runs/`. Flip `USE_REAL_CLIENT=True` when ready for live calls._"
   ]
  },
  {
   "cell_type": "code",
   "execution_count": null,
   "id": "3c7e4c8d",
   "metadata": {},
   "outputs": [],
   "source": [
    "\n",
    "USE_REAL_CLIENT = False  # flip when ready\n",
    "import os, json, time, pathlib, math, random\n",
    "\n",
    "RUN = pathlib.Path('_runs/07_workflow_concurrent_fanin')\n",
    "RUN.mkdir(parents=True, exist_ok=True)\n",
    "FIXTURE_ROOT = pathlib.Path(os.environ.get('MOCK_FIXTURE_ROOT', '_fixtures'))\n",
    "\n",
    "def write_meta(**kwargs):\n",
    "    payload = {\"timestamp\": time.time(), **kwargs}\n",
    "    (RUN / 'meta.json').write_text(json.dumps(payload, indent=2))\n",
    "    return payload\n",
    "\n",
    "USE_REAL_CLIENT = bool(str(os.environ.get('USE_REAL_CLIENT', USE_REAL_CLIENT)).lower() in {'1', 'true', 'yes'})\n"
   ]
  },
  {
   "cell_type": "code",
   "execution_count": null,
   "id": "46067e0b",
   "metadata": {},
   "outputs": [],
   "source": [
    "articles = []\n",
    "for path in sorted((FIXTURE_ROOT / \"news\").glob(\"sample_0*.json\"))[:2]:\n",
    "    article = json.loads(path.read_text())\n",
    "    summary = article[\"summary\"]\n",
    "    keywords = sorted({article[\"category\"], \"community\"})\n",
    "    articles.append({\"slug\": article[\"slug\"], \"summary\": summary, \"keywords\": keywords})\n",
    "merged = {item[\"slug\"]: {\"summary\": item[\"summary\"], \"keywords\": item[\"keywords\"]} for item in articles}\n",
    "output_path = RUN / \"fan_in.json\"\n",
    "output_path.write_text(json.dumps(merged, indent=2))\n",
    "merged"
   ]
  },
  {
   "cell_type": "code",
   "execution_count": null,
   "id": "2c31f4fc",
   "metadata": {},
   "outputs": [],
   "source": [
    "meta = write_meta(ok=True, lab=\"07_workflow_concurrent_fanin\", articles=len(merged))\n",
    "meta"
   ]
  }
 ],
 "metadata": {},
 "nbformat": 4,
 "nbformat_minor": 5
}
