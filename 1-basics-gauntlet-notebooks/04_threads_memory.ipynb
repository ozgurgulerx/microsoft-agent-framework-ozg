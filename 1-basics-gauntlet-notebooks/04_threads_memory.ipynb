{
 "cells": [
  {
   "cell_type": "markdown",
   "id": "f10a63e2",
   "metadata": {},
   "source": [
    "# Threads and Memory\n",
    "\n",
    "    - Goal: Persist conversation state across turns\n",
    "- Goal: Reload memory to inform next response\n",
    "\n",
    "    **Pass criteria:** State written to `_runs/04_threads_memory/state.json` and reused.\n",
    "\n",
    "    _Mock mode uses fixtures and writes artifacts under `_runs/`. Flip `USE_REAL_CLIENT=True` when ready for live calls._"
   ]
  },
  {
   "cell_type": "code",
   "execution_count": null,
   "id": "b2e6715d",
   "metadata": {},
   "outputs": [],
   "source": [
    "\n",
    "USE_REAL_CLIENT = False  # flip when ready\n",
    "import os, json, time, pathlib, math, random\n",
    "\n",
    "RUN = pathlib.Path('_runs/04_threads_memory')\n",
    "RUN.mkdir(parents=True, exist_ok=True)\n",
    "FIXTURE_ROOT = pathlib.Path(os.environ.get('MOCK_FIXTURE_ROOT', '_fixtures'))\n",
    "\n",
    "def write_meta(**kwargs):\n",
    "    payload = {\"timestamp\": time.time(), **kwargs}\n",
    "    (RUN / 'meta.json').write_text(json.dumps(payload, indent=2))\n",
    "    return payload\n",
    "\n",
    "USE_REAL_CLIENT = bool(str(os.environ.get('USE_REAL_CLIENT', USE_REAL_CLIENT)).lower() in {'1', 'true', 'yes'})\n"
   ]
  },
  {
   "cell_type": "code",
   "execution_count": null,
   "id": "5b0580d0",
   "metadata": {},
   "outputs": [],
   "source": [
    "state_file = RUN / \"state.json\"\n",
    "if not state_file.exists():\n",
    "    history = [{\"role\": \"user\", \"content\": \"Track my preferences: tea over coffee.\"}]\n",
    "    state_file.write_text(json.dumps({\"turns\": history}, indent=2))\n",
    "else:\n",
    "    history = json.loads(state_file.read_text())[\"turns\"]\n",
    "new_turn = {\"role\": \"user\", \"content\": \"Remind me what I said earlier.\"}\n",
    "history.append(new_turn)\n",
    "state_file.write_text(json.dumps({\"turns\": history}, indent=2))\n",
    "history"
   ]
  },
  {
   "cell_type": "code",
   "execution_count": null,
   "id": "a2845b76",
   "metadata": {},
   "outputs": [],
   "source": [
    "prior_preferences = [turn[\"content\"] for turn in history if \"preferences\" in turn[\"content\"]]\n",
    "meta = write_meta(ok=True, lab=\"04_threads_memory\", memory_hits=len(prior_preferences))\n",
    "meta"
   ]
  }
 ],
 "metadata": {},
 "nbformat": 4,
 "nbformat_minor": 5
}
