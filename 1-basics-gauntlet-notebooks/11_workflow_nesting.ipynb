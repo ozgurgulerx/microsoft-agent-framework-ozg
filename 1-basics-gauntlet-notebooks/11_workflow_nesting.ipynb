{
 "cells": [
  {
   "cell_type": "markdown",
   "id": "a446c21d",
   "metadata": {},
   "source": [
    "# Workflow Nesting\n",
    "\n",
    "    - Goal: Represent parent workflow invoking sub-flow\n",
    "- Goal: Capture nested trace for analysis\n",
    "\n",
    "    **Pass criteria:** Nested trace JSON stored with parent/child markers.\n",
    "\n",
    "    _Mock mode uses fixtures and writes artifacts under `_runs/`. Flip `USE_REAL_CLIENT=True` when ready for live calls._"
   ]
  },
  {
   "cell_type": "code",
   "execution_count": null,
   "id": "38006095",
   "metadata": {},
   "outputs": [],
   "source": [
    "\n",
    "USE_REAL_CLIENT = False  # flip when ready\n",
    "import os, json, time, pathlib, math, random\n",
    "\n",
    "RUN = pathlib.Path('_runs/11_workflow_nesting')\n",
    "RUN.mkdir(parents=True, exist_ok=True)\n",
    "FIXTURE_ROOT = pathlib.Path(os.environ.get('MOCK_FIXTURE_ROOT', '_fixtures'))\n",
    "\n",
    "def write_meta(**kwargs):\n",
    "    payload = {\"timestamp\": time.time(), **kwargs}\n",
    "    (RUN / 'meta.json').write_text(json.dumps(payload, indent=2))\n",
    "    return payload\n",
    "\n",
    "USE_REAL_CLIENT = bool(str(os.environ.get('USE_REAL_CLIENT', USE_REAL_CLIENT)).lower() in {'1', 'true', 'yes'})\n"
   ]
  },
  {
   "cell_type": "code",
   "execution_count": null,
   "id": "9ef5ed2d",
   "metadata": {},
   "outputs": [],
   "source": [
    "nested_trace = [\n",
    "    {\"flow\": \"parent\", \"node\": \"ingest\", \"status\": \"complete\"},\n",
    "    {\"flow\": \"child:summarise\", \"node\": \"draft\", \"status\": \"complete\"},\n",
    "    {\"flow\": \"child:summarise\", \"node\": \"review\", \"status\": \"complete\"},\n",
    "    {\"flow\": \"parent\", \"node\": \"publish\", \"status\": \"queued\"}\n",
    "]\n",
    "(RUN / \"nested_trace.json\").write_text(json.dumps(nested_trace, indent=2))\n",
    "nested_trace"
   ]
  },
  {
   "cell_type": "code",
   "execution_count": null,
   "id": "0eb470b4",
   "metadata": {},
   "outputs": [],
   "source": [
    "meta = write_meta(ok=True, lab=\"11_workflow_nesting\", nested=True)\n",
    "meta"
   ]
  }
 ],
 "metadata": {},
 "nbformat": 4,
 "nbformat_minor": 5
}
