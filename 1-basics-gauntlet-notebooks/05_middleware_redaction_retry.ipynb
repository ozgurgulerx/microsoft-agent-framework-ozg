{
 "cells": [
  {
   "cell_type": "markdown",
   "id": "972b446c",
   "metadata": {},
   "source": [
    "# Middleware Redaction and Retry\n",
    "\n",
    "    - Goal: Redact PII before logging\n",
    "- Goal: Retry transient errors with exponential backoff\n",
    "\n",
    "    **Pass criteria:** `events.json` records retry history with redactions tracked.\n",
    "\n",
    "    _Mock mode uses fixtures and writes artifacts under `_runs/`. Flip `USE_REAL_CLIENT=True` when ready for live calls._"
   ]
  },
  {
   "cell_type": "code",
   "execution_count": null,
   "id": "1f1c8e46",
   "metadata": {},
   "outputs": [],
   "source": [
    "\n",
    "USE_REAL_CLIENT = False  # flip when ready\n",
    "import os, json, time, pathlib, math, random\n",
    "\n",
    "RUN = pathlib.Path('_runs/05_middleware')\n",
    "RUN.mkdir(parents=True, exist_ok=True)\n",
    "FIXTURE_ROOT = pathlib.Path(os.environ.get('MOCK_FIXTURE_ROOT', '_fixtures'))\n",
    "\n",
    "def write_meta(**kwargs):\n",
    "    payload = {\"timestamp\": time.time(), **kwargs}\n",
    "    (RUN / 'meta.json').write_text(json.dumps(payload, indent=2))\n",
    "    return payload\n",
    "\n",
    "USE_REAL_CLIENT = bool(str(os.environ.get('USE_REAL_CLIENT', USE_REAL_CLIENT)).lower() in {'1', 'true', 'yes'})\n"
   ]
  },
  {
   "cell_type": "code",
   "execution_count": null,
   "id": "50b6b8cc",
   "metadata": {},
   "outputs": [],
   "source": [
    "from tools.redact_middleware import apply_redaction\n",
    "from tools.backoff import retry\n",
    "message = [{\"role\": \"user\", \"content\": \"Please email me at learner@example.com with the plan.\"}]\n",
    "cleaned = apply_redaction(message)\n",
    "(RUN / \"redacted.json\").write_text(json.dumps(cleaned, indent=2))\n",
    "counter = {\"attempts\": 0}\n",
    "def flaky_operation():\n",
    "    counter[\"attempts\"] += 1\n",
    "    if counter[\"attempts\"] < 2:\n",
    "        raise RuntimeError(\"mock transient error\")\n",
    "    return \"processed\"\n",
    "result, history = retry(flaky_operation, attempts=3, sleeper=lambda _: None)\n",
    "events = [{\"attempt\": h.index, \"delay\": round(h.delay, 3), \"success\": h.success, \"error\": h.error} for h in history]\n",
    "events_path = RUN / \"events.json\"\n",
    "events_path.write_text(json.dumps({\"events\": events, \"result\": result}, indent=2))\n",
    "events"
   ]
  },
  {
   "cell_type": "code",
   "execution_count": null,
   "id": "4dcafc86",
   "metadata": {},
   "outputs": [],
   "source": [
    "meta = write_meta(ok=True, lab=\"05_middleware\", attempts=len(events), redactions=cleaned[0]['redactions'])\n",
    "meta"
   ]
  }
 ],
 "metadata": {},
 "nbformat": 4,
 "nbformat_minor": 5
}
