{
 "cells": [
  {
   "cell_type": "markdown",
   "id": "f31ab205",
   "metadata": {},
   "source": [
    "# Checkpoint and Resume\n",
    "\n",
    "    - Goal: Persist execution checkpoint\n",
    "- Goal: Reload checkpoint to resume work\n",
    "\n",
    "    **Pass criteria:** Checkpoint written and resume flagged in metadata.\n",
    "\n",
    "    _Mock mode uses fixtures and writes artifacts under `_runs/`. Flip `USE_REAL_CLIENT=True` when ready for live calls._"
   ]
  },
  {
   "cell_type": "code",
   "execution_count": null,
   "id": "4caa0cff",
   "metadata": {},
   "outputs": [],
   "source": [
    "\n",
    "USE_REAL_CLIENT = False  # flip when ready\n",
    "import os, json, time, pathlib, math, random\n",
    "\n",
    "RUN = pathlib.Path('_runs/10_checkpoint_resume')\n",
    "RUN.mkdir(parents=True, exist_ok=True)\n",
    "FIXTURE_ROOT = pathlib.Path(os.environ.get('MOCK_FIXTURE_ROOT', '_fixtures'))\n",
    "\n",
    "def write_meta(**kwargs):\n",
    "    payload = {\"timestamp\": time.time(), **kwargs}\n",
    "    (RUN / 'meta.json').write_text(json.dumps(payload, indent=2))\n",
    "    return payload\n",
    "\n",
    "USE_REAL_CLIENT = bool(str(os.environ.get('USE_REAL_CLIENT', USE_REAL_CLIENT)).lower() in {'1', 'true', 'yes'})\n"
   ]
  },
  {
   "cell_type": "code",
   "execution_count": null,
   "id": "d2a5304b",
   "metadata": {},
   "outputs": [],
   "source": [
    "checkpoint_file = RUN / \"checkpoint.json\"\n",
    "checkpoint = {\n",
    "    \"step\": \"analysis\",\n",
    "    \"data\": {\"outline\": [\"intro\", \"body\", \"summary\"]},\n",
    "    \"saved_at\": time.time()\n",
    "}\n",
    "checkpoint_file.write_text(json.dumps(checkpoint, indent=2))\n",
    "restored = json.loads(checkpoint_file.read_text())\n",
    "restored"
   ]
  },
  {
   "cell_type": "code",
   "execution_count": null,
   "id": "81b1a119",
   "metadata": {},
   "outputs": [],
   "source": [
    "meta = write_meta(ok=True, lab=\"10_checkpoint_resume\", resumed_from_checkpoint=True)\n",
    "meta"
   ]
  }
 ],
 "metadata": {},
 "nbformat": 4,
 "nbformat_minor": 5
}
