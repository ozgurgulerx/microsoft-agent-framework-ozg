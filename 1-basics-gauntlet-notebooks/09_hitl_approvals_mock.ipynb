{
 "cells": [
  {
   "cell_type": "markdown",
   "id": "be5b26f6",
   "metadata": {},
   "source": [
    "# HITL Approvals (Mock)\n",
    "\n",
    "    - Goal: Create approval request payload\n",
    "- Goal: Resume flow with fixture response\n",
    "\n",
    "    **Pass criteria:** Approval request persisted and resume info captured.\n",
    "\n",
    "    _Mock mode uses fixtures and writes artifacts under `_runs/`. Flip `USE_REAL_CLIENT=True` when ready for live calls._"
   ]
  },
  {
   "cell_type": "code",
   "execution_count": null,
   "id": "8f9281b3",
   "metadata": {},
   "outputs": [],
   "source": [
    "\n",
    "USE_REAL_CLIENT = False  # flip when ready\n",
    "import os, json, time, pathlib, math, random\n",
    "\n",
    "RUN = pathlib.Path('_runs/09_hitl_approvals')\n",
    "RUN.mkdir(parents=True, exist_ok=True)\n",
    "FIXTURE_ROOT = pathlib.Path(os.environ.get('MOCK_FIXTURE_ROOT', '_fixtures'))\n",
    "\n",
    "def write_meta(**kwargs):\n",
    "    payload = {\"timestamp\": time.time(), **kwargs}\n",
    "    (RUN / 'meta.json').write_text(json.dumps(payload, indent=2))\n",
    "    return payload\n",
    "\n",
    "USE_REAL_CLIENT = bool(str(os.environ.get('USE_REAL_CLIENT', USE_REAL_CLIENT)).lower() in {'1', 'true', 'yes'})\n"
   ]
  },
  {
   "cell_type": "code",
   "execution_count": null,
   "id": "e8c7638f",
   "metadata": {},
   "outputs": [],
   "source": [
    "request = {\n",
    "    \"request_id\": \"hitl-001\",\n",
    "    \"status\": \"pending\",\n",
    "    \"submitted_at\": time.time(),\n",
    "    \"context\": {\"summary\": \"Opinion piece requires approval\"}\n",
    "}\n",
    "(RUN / \"approval_request.json\").write_text(json.dumps(request, indent=2))\n",
    "approval = json.loads((FIXTURE_ROOT / \"approvals.json\").read_text())\n",
    "resume = {\n",
    "    \"request_id\": request[\"request_id\"],\n",
    "    \"status\": \"approved\",\n",
    "    \"approved_by\": approval[\"approved_by\"],\n",
    "    \"timestamp\": approval[\"timestamp\"]\n",
    "}\n",
    "(RUN / \"approval_resume.json\").write_text(json.dumps(resume, indent=2))\n",
    "resume"
   ]
  },
  {
   "cell_type": "code",
   "execution_count": null,
   "id": "c13d1464",
   "metadata": {},
   "outputs": [],
   "source": [
    "meta = write_meta(ok=True, lab=\"09_hitl_approvals\", approved_by=resume['approved_by'])\n",
    "meta"
   ]
  }
 ],
 "metadata": {},
 "nbformat": 4,
 "nbformat_minor": 5
}
