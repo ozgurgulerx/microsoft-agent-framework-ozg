{
 "cells": [
  {
   "cell_type": "markdown",
   "id": "94d14f64",
   "metadata": {},
   "source": [
    "# Tools and Function Calling\n",
    "\n",
    "    - Goal: Review mock add tool log\n",
    "- Goal: Replay weather lookup from fixtures\n",
    "\n",
    "    **Pass criteria:** Tool call log written to `_runs/02_tools/output.json`.\n",
    "\n",
    "    _Mock mode uses fixtures and writes artifacts under `_runs/`. Flip `USE_REAL_CLIENT=True` when ready for live calls._"
   ]
  },
  {
   "cell_type": "code",
   "execution_count": null,
   "id": "181c46cf",
   "metadata": {},
   "outputs": [],
   "source": [
    "\n",
    "USE_REAL_CLIENT = False  # flip when ready\n",
    "import os, json, time, pathlib, math, random\n",
    "\n",
    "RUN = pathlib.Path('_runs/02_tools')\n",
    "RUN.mkdir(parents=True, exist_ok=True)\n",
    "FIXTURE_ROOT = pathlib.Path(os.environ.get('MOCK_FIXTURE_ROOT', '_fixtures'))\n",
    "\n",
    "def write_meta(**kwargs):\n",
    "    payload = {\"timestamp\": time.time(), **kwargs}\n",
    "    (RUN / 'meta.json').write_text(json.dumps(payload, indent=2))\n",
    "    return payload\n",
    "\n",
    "USE_REAL_CLIENT = bool(str(os.environ.get('USE_REAL_CLIENT', USE_REAL_CLIENT)).lower() in {'1', 'true', 'yes'})\n"
   ]
  },
  {
   "cell_type": "code",
   "execution_count": null,
   "id": "764a395e",
   "metadata": {},
   "outputs": [],
   "source": [
    "weather = json.loads((FIXTURE_ROOT / \"weather.json\").read_text())\n",
    "sample_city = weather[\"locations\"][0]\n",
    "tool_log = [\n",
    "    {\"tool\": \"add\", \"arguments\": {\"a\": 7, \"b\": 3}, \"result\": 10, \"duration_ms\": 12},\n",
    "    {\"tool\": \"weather\", \"arguments\": {\"city\": sample_city[\"city\"]}, \"result\": sample_city, \"duration_ms\": 28},\n",
    "]\n",
    "output_path = RUN / \"output.json\"\n",
    "output_path.write_text(json.dumps(tool_log, indent=2))\n",
    "tool_log"
   ]
  },
  {
   "cell_type": "code",
   "execution_count": null,
   "id": "f09b35fe",
   "metadata": {},
   "outputs": [],
   "source": [
    "meta = write_meta(ok=True, lab=\"02_tools_fncalling\", tool_count=len(tool_log), output=str(output_path))\n",
    "meta"
   ]
  }
 ],
 "metadata": {},
 "nbformat": 4,
 "nbformat_minor": 5
}
