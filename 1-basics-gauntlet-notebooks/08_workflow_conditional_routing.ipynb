{
 "cells": [
  {
   "cell_type": "markdown",
   "id": "b25d3215",
   "metadata": {},
   "source": [
    "# Conditional Routing Workflow\n",
    "\n",
    "    - Goal: Route math and weather prompts to handlers\n",
    "- Goal: Log routing decisions for auditing\n",
    "\n",
    "    **Pass criteria:** Routing log stored with handler names printed.\n",
    "\n",
    "    _Mock mode uses fixtures and writes artifacts under `_runs/`. Flip `USE_REAL_CLIENT=True` when ready for live calls._"
   ]
  },
  {
   "cell_type": "code",
   "execution_count": null,
   "id": "c9fd56c9",
   "metadata": {},
   "outputs": [],
   "source": [
    "\n",
    "USE_REAL_CLIENT = False  # flip when ready\n",
    "import os, json, time, pathlib, math, random\n",
    "\n",
    "RUN = pathlib.Path('_runs/08_workflow_conditional')\n",
    "RUN.mkdir(parents=True, exist_ok=True)\n",
    "FIXTURE_ROOT = pathlib.Path(os.environ.get('MOCK_FIXTURE_ROOT', '_fixtures'))\n",
    "\n",
    "def write_meta(**kwargs):\n",
    "    payload = {\"timestamp\": time.time(), **kwargs}\n",
    "    (RUN / 'meta.json').write_text(json.dumps(payload, indent=2))\n",
    "    return payload\n",
    "\n",
    "USE_REAL_CLIENT = bool(str(os.environ.get('USE_REAL_CLIENT', USE_REAL_CLIENT)).lower() in {'1', 'true', 'yes'})\n"
   ]
  },
  {
   "cell_type": "code",
   "execution_count": null,
   "id": "2e5f4ebd",
   "metadata": {},
   "outputs": [],
   "source": [
    "routes = []\n",
    "math_items = json.loads((FIXTURE_ROOT / \"math.json\").read_text())[\"problems\"]\n",
    "weather_items = json.loads((FIXTURE_ROOT / \"weather.json\").read_text())[\"locations\"]\n",
    "for item in math_items:\n",
    "    route = \"math_handler\"\n",
    "    print(f\"route={route}: {item['prompt']}\")\n",
    "    routes.append({\"source\": item[\"id\"], \"route\": route})\n",
    "for spot in weather_items:\n",
    "    route = \"weather_handler\"\n",
    "    print(f\"route={route}: {spot['city']}\")\n",
    "    routes.append({\"source\": spot[\"city\"], \"route\": route})\n",
    "(RUN / \"routes.json\").write_text(json.dumps(routes, indent=2))\n",
    "routes"
   ]
  },
  {
   "cell_type": "code",
   "execution_count": null,
   "id": "3c6e9a6e",
   "metadata": {},
   "outputs": [],
   "source": [
    "meta = write_meta(ok=True, lab=\"08_workflow_conditional\", routes=len(routes))\n",
    "meta"
   ]
  }
 ],
 "metadata": {},
 "nbformat": 4,
 "nbformat_minor": 5
}
