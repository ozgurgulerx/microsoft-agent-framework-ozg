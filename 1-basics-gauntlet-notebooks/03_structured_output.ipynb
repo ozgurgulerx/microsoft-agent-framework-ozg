{
 "cells": [
  {
   "cell_type": "markdown",
   "id": "a47b07a7",
   "metadata": {},
   "source": [
    "# Structured Output\n",
    "\n",
    "    - Goal: Produce structured JSON with confidence field\n",
    "- Goal: Contrast with invalid schema attempt\n",
    "\n",
    "    **Pass criteria:** Valid payload persisted and validator demonstrates failure case.\n",
    "\n",
    "    _Mock mode uses fixtures and writes artifacts under `_runs/`. Flip `USE_REAL_CLIENT=True` when ready for live calls._"
   ]
  },
  {
   "cell_type": "code",
   "execution_count": null,
   "id": "842b429d",
   "metadata": {},
   "outputs": [],
   "source": [
    "\n",
    "USE_REAL_CLIENT = False  # flip when ready\n",
    "import os, json, time, pathlib, math, random\n",
    "\n",
    "RUN = pathlib.Path('_runs/03_structured_output')\n",
    "RUN.mkdir(parents=True, exist_ok=True)\n",
    "FIXTURE_ROOT = pathlib.Path(os.environ.get('MOCK_FIXTURE_ROOT', '_fixtures'))\n",
    "\n",
    "def write_meta(**kwargs):\n",
    "    payload = {\"timestamp\": time.time(), **kwargs}\n",
    "    (RUN / 'meta.json').write_text(json.dumps(payload, indent=2))\n",
    "    return payload\n",
    "\n",
    "USE_REAL_CLIENT = bool(str(os.environ.get('USE_REAL_CLIENT', USE_REAL_CLIENT)).lower() in {'1', 'true', 'yes'})\n"
   ]
  },
  {
   "cell_type": "code",
   "execution_count": null,
   "id": "00660e19",
   "metadata": {},
   "outputs": [],
   "source": [
    "payload = {\n",
    "    \"title\": \"Agent Framework Recap\",\n",
    "    \"bullets\": [\n",
    "        \"Agents coordinate goals and tools\",\n",
    "        \"Workflows route between draft, fact-check, and polish\",\n",
    "        \"Mock fixtures allow offline iteration\"\n",
    "    ],\n",
    "    \"confidence\": 0.92,\n",
    "}\n",
    "(RUN / \"structured.json\").write_text(json.dumps(payload, indent=2))\n",
    "payload"
   ]
  },
  {
   "cell_type": "code",
   "execution_count": null,
   "id": "03147aff",
   "metadata": {},
   "outputs": [],
   "source": [
    "def validate(candidate):\n",
    "    assert isinstance(candidate[\"title\"], str)\n",
    "    assert isinstance(candidate[\"bullets\"], list)\n",
    "    assert all(isinstance(item, str) for item in candidate[\"bullets\"])\n",
    "    assert isinstance(candidate[\"confidence\"], (int, float))\n",
    "    assert 0 <= candidate[\"confidence\"] <= 1\n",
    "validate(payload)"
   ]
  },
  {
   "cell_type": "code",
   "execution_count": null,
   "id": "56c19fd1",
   "metadata": {},
   "outputs": [],
   "source": [
    "try:\n",
    "    validate({\"title\": payload[\"title\"], \"bullets\": \"not a list\", \"confidence\": 2})\n",
    "except AssertionError as exc:\n",
    "    failure_message = f\"Expected validation failure: {exc}\"\n",
    "else:\n",
    "    failure_message = \"Validation unexpectedly passed\"\n",
    "failure_message"
   ]
  },
  {
   "cell_type": "code",
   "execution_count": null,
   "id": "3369158a",
   "metadata": {},
   "outputs": [],
   "source": [
    "meta = write_meta(ok=True, lab=\"03_structured_output\", bullets=len(payload[\"bullets\"]))\n",
    "meta"
   ]
  }
 ],
 "metadata": {},
 "nbformat": 4,
 "nbformat_minor": 5
}
