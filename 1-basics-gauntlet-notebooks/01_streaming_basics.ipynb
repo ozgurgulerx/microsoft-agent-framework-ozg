{
 "cells": [
  {
   "cell_type": "markdown",
   "id": "beff611d",
   "metadata": {},
   "source": [
    "# Streaming Basics\n",
    "\n",
    "    - Goal: Simulate token streaming with offline fixtures\n",
    "- Goal: Persist streamed output for replay\n",
    "\n",
    "    **Pass criteria:** `stream.txt` created with DONE terminator.\n",
    "\n",
    "    _Mock mode uses fixtures and writes artifacts under `_runs/`. Flip `USE_REAL_CLIENT=True` when ready for live calls._"
   ]
  },
  {
   "cell_type": "code",
   "execution_count": null,
   "id": "9f3d5e9c",
   "metadata": {},
   "outputs": [],
   "source": [
    "\n",
    "USE_REAL_CLIENT = False  # flip when ready\n",
    "import os, json, time, pathlib, math, random\n",
    "\n",
    "RUN = pathlib.Path('_runs/01_streaming')\n",
    "RUN.mkdir(parents=True, exist_ok=True)\n",
    "FIXTURE_ROOT = pathlib.Path(os.environ.get('MOCK_FIXTURE_ROOT', '_fixtures'))\n",
    "\n",
    "def write_meta(**kwargs):\n",
    "    payload = {\"timestamp\": time.time(), **kwargs}\n",
    "    (RUN / 'meta.json').write_text(json.dumps(payload, indent=2))\n",
    "    return payload\n",
    "\n",
    "USE_REAL_CLIENT = bool(str(os.environ.get('USE_REAL_CLIENT', USE_REAL_CLIENT)).lower() in {'1', 'true', 'yes'})\n"
   ]
  },
  {
   "cell_type": "code",
   "execution_count": null,
   "id": "aec2c7a6",
   "metadata": {},
   "outputs": [],
   "source": [
    "from tools.tee_stream import tee_stream\n",
    "                chunks = [\"Streaming\", \" \", \"response\", \" \", \"demo\"]\n",
    "                stream_file = tee_stream(chunks, RUN, filename=\"stream.txt\", end=\"\n",
    "DONE\n",
    "\")\n",
    "                content = stream_file.read_text()\n",
    "                content"
   ]
  },
  {
   "cell_type": "code",
   "execution_count": null,
   "id": "9777581e",
   "metadata": {},
   "outputs": [],
   "source": [
    "meta = write_meta(ok=\"DONE\" in content, lab=\"01_streaming\", stream_file=str(stream_file))\n",
    "meta"
   ]
  }
 ],
 "metadata": {},
 "nbformat": 4,
 "nbformat_minor": 5
}
