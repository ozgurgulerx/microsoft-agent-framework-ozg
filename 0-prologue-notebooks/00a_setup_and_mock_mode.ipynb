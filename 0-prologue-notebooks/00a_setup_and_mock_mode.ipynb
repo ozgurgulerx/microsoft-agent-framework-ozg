{
 "cells": [
  {
   "cell_type": "markdown",
   "id": "17b9d8f1",
   "metadata": {},
   "source": [
    "# Setup and Mock Mode\n",
    "\n",
    "    - Goal: Validate fixture discovery\n",
    "- Goal: Document how to flip into live clients\n",
    "\n",
    "    **Pass criteria:** Fixture paths resolved and meta written to `_runs/00a_setup`.\n",
    "\n",
    "    _Mock mode uses fixtures and writes artifacts under `_runs/`. Flip `USE_REAL_CLIENT=True` when ready for live calls._"
   ]
  },
  {
   "cell_type": "code",
   "execution_count": null,
   "id": "a377ca50",
   "metadata": {},
   "outputs": [],
   "source": [
    "\n",
    "USE_REAL_CLIENT = False  # flip when ready\n",
    "import os, json, time, pathlib, math, random\n",
    "\n",
    "RUN = pathlib.Path('_runs/00a_setup')\n",
    "RUN.mkdir(parents=True, exist_ok=True)\n",
    "FIXTURE_ROOT = pathlib.Path(os.environ.get('MOCK_FIXTURE_ROOT', '_fixtures'))\n",
    "\n",
    "def write_meta(**kwargs):\n",
    "    payload = {\"timestamp\": time.time(), **kwargs}\n",
    "    (RUN / 'meta.json').write_text(json.dumps(payload, indent=2))\n",
    "    return payload\n",
    "\n",
    "USE_REAL_CLIENT = bool(str(os.environ.get('USE_REAL_CLIENT', USE_REAL_CLIENT)).lower() in {'1', 'true', 'yes'})\n"
   ]
  },
  {
   "cell_type": "code",
   "execution_count": null,
   "id": "d490e43b",
   "metadata": {},
   "outputs": [],
   "source": [
    "fixture_listing = sorted(p.name for p in FIXTURE_ROOT.glob(\"**/*\") if p.is_file())\n",
    "(RUN / \"fixtures.json\").write_text(json.dumps({\"files\": fixture_listing}, indent=2))\n",
    "fixture_listing[:5]"
   ]
  },
  {
   "cell_type": "markdown",
   "id": "6baf7481",
   "metadata": {},
   "source": [
    "If `USE_REAL_CLIENT` is `True`, replace mock operations with real Agent Framework calls."
   ]
  },
  {
   "cell_type": "code",
   "execution_count": null,
   "id": "a4dd3152",
   "metadata": {},
   "outputs": [],
   "source": [
    "env_toggle = os.environ.get(\"USE_REAL_CLIENT\", \"False\")\n",
    "meta = write_meta(ok=True, lab=\"00a_setup\", mock=not USE_REAL_CLIENT, env_toggle=env_toggle)\n",
    "meta"
   ]
  }
 ],
 "metadata": {},
 "nbformat": 4,
 "nbformat_minor": 5
}
