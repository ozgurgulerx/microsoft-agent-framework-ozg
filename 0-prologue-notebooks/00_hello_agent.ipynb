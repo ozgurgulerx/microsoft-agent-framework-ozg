{
 "cells": [
  {
   "cell_type": "markdown",
   "id": "78727853",
   "metadata": {},
   "source": [
    "# Hello Agent\n",
    "\n",
    "    - Goal: Inspect repository layout\n",
    "- Goal: Run the first agent conversation in mock mode\n",
    "\n",
    "    **Pass criteria:** Greeting logged to `_runs/00_hello_agent` with metadata flag.\n",
    "\n",
    "    _Mock mode uses fixtures and writes artifacts under `_runs/`. Flip `USE_REAL_CLIENT=True` when ready for live calls._"
   ]
  },
  {
   "cell_type": "code",
   "execution_count": null,
   "id": "b7626dc8",
   "metadata": {},
   "outputs": [],
   "source": [
    "\n",
    "USE_REAL_CLIENT = False  # flip when ready\n",
    "import os, json, time, pathlib, math, random\n",
    "\n",
    "RUN = pathlib.Path('_runs/00_hello_agent')\n",
    "RUN.mkdir(parents=True, exist_ok=True)\n",
    "FIXTURE_ROOT = pathlib.Path(os.environ.get('MOCK_FIXTURE_ROOT', '_fixtures'))\n",
    "\n",
    "def write_meta(**kwargs):\n",
    "    payload = {\"timestamp\": time.time(), **kwargs}\n",
    "    (RUN / 'meta.json').write_text(json.dumps(payload, indent=2))\n",
    "    return payload\n",
    "\n",
    "USE_REAL_CLIENT = bool(str(os.environ.get('USE_REAL_CLIENT', USE_REAL_CLIENT)).lower() in {'1', 'true', 'yes'})\n"
   ]
  },
  {
   "cell_type": "code",
   "execution_count": null,
   "id": "789a7d5f",
   "metadata": {},
   "outputs": [],
   "source": [
    "conversation = [\n",
    "    {\"role\": \"system\", \"content\": \"You are a friendly assistant.\"},\n",
    "    {\"role\": \"user\", \"content\": \"Hello agent framework!\"},\n",
    "]\n",
    "response = {\"role\": \"assistant\", \"content\": \"Mock mode says hello right back.\"}\n",
    "transcript = {\"conversation\": conversation, \"response\": response, \"use_real_client\": USE_REAL_CLIENT}\n",
    "(RUN / \"transcript.json\").write_text(json.dumps(transcript, indent=2))\n",
    "transcript"
   ]
  },
  {
   "cell_type": "code",
   "execution_count": null,
   "id": "9ebb3eaf",
   "metadata": {},
   "outputs": [],
   "source": [
    "summary = {\n",
    "    \"tokens\": len((conversation[1][\"content\"] + response[\"content\"]).split()),\n",
    "    \"mock\": not USE_REAL_CLIENT,\n",
    "}\n",
    "(RUN / \"summary.json\").write_text(json.dumps(summary, indent=2))\n",
    "summary"
   ]
  },
  {
   "cell_type": "code",
   "execution_count": null,
   "id": "c0774b11",
   "metadata": {},
   "outputs": [],
   "source": [
    "meta = write_meta(ok=True, lab=\"00_hello_agent\", notes=\"Conversation captured\", mock=not USE_REAL_CLIENT)\n",
    "meta"
   ]
  }
 ],
 "metadata": {},
 "nbformat": 4,
 "nbformat_minor": 5
}
